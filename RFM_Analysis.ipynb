{
 "cells": [
  {
   "cell_type": "markdown",
   "id": "42715eb7",
   "metadata": {},
   "source": [
    "## Library Importation"
   ]
  },
  {
   "cell_type": "code",
   "execution_count": 1,
   "id": "19769b4a",
   "metadata": {},
   "outputs": [],
   "source": [
    "import pyodbc\n",
    "import pandas as pd\n",
    "import numpy as np\n",
    "import matplotlib.pyplot as plt\n",
    "import seaborn as sns\n",
    "import plotly.express as px"
   ]
  },
  {
   "cell_type": "markdown",
   "id": "bbcb7215",
   "metadata": {},
   "source": [
    "## Graph Configuration"
   ]
  },
  {
   "cell_type": "code",
   "execution_count": 3,
   "id": "8e12dd5c",
   "metadata": {},
   "outputs": [],
   "source": [
    "%matplotlib inline\n",
    "\n",
    "plt.rcParams['figure.figsize'] = (16, 9)\n",
    "plt.style.use('ggplot')"
   ]
  },
  {
   "cell_type": "markdown",
   "id": "4f5c5c41",
   "metadata": {},
   "source": [
    "## Data Import"
   ]
  },
  {
   "cell_type": "code",
   "execution_count": 5,
   "id": "72020892",
   "metadata": {},
   "outputs": [],
   "source": [
    "# Establish connection to database\n",
    "conn = pyodbc.connect('Driver={SQL Server};' \n",
    "                      'Server=DESKTOP-PKKQIAI;' \n",
    "                      'Database=AdventureWorksDW2019;' \n",
    "                      'Trusted_Connection=yes;')"
   ]
  },
  {
   "cell_type": "code",
   "execution_count": 7,
   "id": "a02eb989",
   "metadata": {},
   "outputs": [],
   "source": [
    "sql_for_df = \"SELECT [CustomerKey], DATEDIFF(DAY, MAX([OrderDate]), '2014-01-28 00:00:00.000') AS Recency, \\\n",
    "                COUNT(DISTINCT [SalesOrderNumber]) AS Frequency, \\\n",
    "                SUM([SalesAmount]) AS Monetary \\\n",
    "                FROM [dbo].[FactInternetSales] \\\n",
    "                GROUP BY [CustomerKey]\"\n",
    "\n",
    "rfm_df = pd.read_sql(sql_for_df, conn)\n",
    "\n",
    "# Close connection\n",
    "conn.close()"
   ]
  },
  {
   "cell_type": "markdown",
   "id": "67a18378",
   "metadata": {},
   "source": [
    "## Preliminary EDA"
   ]
  },
  {
   "cell_type": "code",
   "execution_count": 8,
   "id": "a36c33b8",
   "metadata": {},
   "outputs": [
    {
     "data": {
      "text/html": [
       "<div>\n",
       "<style scoped>\n",
       "    .dataframe tbody tr th:only-of-type {\n",
       "        vertical-align: middle;\n",
       "    }\n",
       "\n",
       "    .dataframe tbody tr th {\n",
       "        vertical-align: top;\n",
       "    }\n",
       "\n",
       "    .dataframe thead th {\n",
       "        text-align: right;\n",
       "    }\n",
       "</style>\n",
       "<table border=\"1\" class=\"dataframe\">\n",
       "  <thead>\n",
       "    <tr style=\"text-align: right;\">\n",
       "      <th></th>\n",
       "      <th>CustomerKey</th>\n",
       "      <th>Recency</th>\n",
       "      <th>Frequency</th>\n",
       "      <th>Monetary</th>\n",
       "    </tr>\n",
       "  </thead>\n",
       "  <tbody>\n",
       "    <tr>\n",
       "      <th>0</th>\n",
       "      <td>28387</td>\n",
       "      <td>71</td>\n",
       "      <td>1</td>\n",
       "      <td>583.9700</td>\n",
       "    </tr>\n",
       "    <tr>\n",
       "      <th>1</th>\n",
       "      <td>14324</td>\n",
       "      <td>134</td>\n",
       "      <td>3</td>\n",
       "      <td>5121.4282</td>\n",
       "    </tr>\n",
       "    <tr>\n",
       "      <th>2</th>\n",
       "      <td>19897</td>\n",
       "      <td>70</td>\n",
       "      <td>1</td>\n",
       "      <td>596.9600</td>\n",
       "    </tr>\n",
       "    <tr>\n",
       "      <th>3</th>\n",
       "      <td>22814</td>\n",
       "      <td>310</td>\n",
       "      <td>1</td>\n",
       "      <td>4.9900</td>\n",
       "    </tr>\n",
       "    <tr>\n",
       "      <th>4</th>\n",
       "      <td>11407</td>\n",
       "      <td>219</td>\n",
       "      <td>1</td>\n",
       "      <td>53.9900</td>\n",
       "    </tr>\n",
       "  </tbody>\n",
       "</table>\n",
       "</div>"
      ],
      "text/plain": [
       "   CustomerKey  Recency  Frequency   Monetary\n",
       "0        28387       71          1   583.9700\n",
       "1        14324      134          3  5121.4282\n",
       "2        19897       70          1   596.9600\n",
       "3        22814      310          1     4.9900\n",
       "4        11407      219          1    53.9900"
      ]
     },
     "execution_count": 8,
     "metadata": {},
     "output_type": "execute_result"
    }
   ],
   "source": [
    "# Check first few rows\n",
    "rfm_df.head()"
   ]
  },
  {
   "cell_type": "code",
   "execution_count": 9,
   "id": "f8d7e0a6",
   "metadata": {},
   "outputs": [
    {
     "data": {
      "text/plain": [
       "(18484, 4)"
      ]
     },
     "execution_count": 9,
     "metadata": {},
     "output_type": "execute_result"
    }
   ],
   "source": [
    "# Check dimensions\n",
    "rfm_df.shape"
   ]
  },
  {
   "cell_type": "code",
   "execution_count": 10,
   "id": "dd6f671d",
   "metadata": {},
   "outputs": [
    {
     "name": "stdout",
     "output_type": "stream",
     "text": [
      "<class 'pandas.core.frame.DataFrame'>\n",
      "RangeIndex: 18484 entries, 0 to 18483\n",
      "Data columns (total 4 columns):\n",
      " #   Column       Non-Null Count  Dtype  \n",
      "---  ------       --------------  -----  \n",
      " 0   CustomerKey  18484 non-null  int64  \n",
      " 1   Recency      18484 non-null  int64  \n",
      " 2   Frequency    18484 non-null  int64  \n",
      " 3   Monetary     18484 non-null  float64\n",
      "dtypes: float64(1), int64(3)\n",
      "memory usage: 577.8 KB\n"
     ]
    }
   ],
   "source": [
    "# Check column information\n",
    "rfm_df.info()"
   ]
  },
  {
   "cell_type": "code",
   "execution_count": 11,
   "id": "9998d876",
   "metadata": {},
   "outputs": [
    {
     "data": {
      "text/html": [
       "<div>\n",
       "<style scoped>\n",
       "    .dataframe tbody tr th:only-of-type {\n",
       "        vertical-align: middle;\n",
       "    }\n",
       "\n",
       "    .dataframe tbody tr th {\n",
       "        vertical-align: top;\n",
       "    }\n",
       "\n",
       "    .dataframe thead th {\n",
       "        text-align: right;\n",
       "    }\n",
       "</style>\n",
       "<table border=\"1\" class=\"dataframe\">\n",
       "  <thead>\n",
       "    <tr style=\"text-align: right;\">\n",
       "      <th></th>\n",
       "      <th>CustomerKey</th>\n",
       "      <th>Recency</th>\n",
       "      <th>Frequency</th>\n",
       "      <th>Monetary</th>\n",
       "    </tr>\n",
       "  </thead>\n",
       "  <tbody>\n",
       "    <tr>\n",
       "      <th>count</th>\n",
       "      <td>18484.000000</td>\n",
       "      <td>18484.000000</td>\n",
       "      <td>18484.000000</td>\n",
       "      <td>18484.000000</td>\n",
       "    </tr>\n",
       "    <tr>\n",
       "      <th>mean</th>\n",
       "      <td>20241.500000</td>\n",
       "      <td>189.332450</td>\n",
       "      <td>1.496375</td>\n",
       "      <td>1588.329216</td>\n",
       "    </tr>\n",
       "    <tr>\n",
       "      <th>std</th>\n",
       "      <td>5336.015523</td>\n",
       "      <td>146.288729</td>\n",
       "      <td>1.101139</td>\n",
       "      <td>2124.231717</td>\n",
       "    </tr>\n",
       "    <tr>\n",
       "      <th>min</th>\n",
       "      <td>11000.000000</td>\n",
       "      <td>0.000000</td>\n",
       "      <td>1.000000</td>\n",
       "      <td>2.290000</td>\n",
       "    </tr>\n",
       "    <tr>\n",
       "      <th>25%</th>\n",
       "      <td>15620.750000</td>\n",
       "      <td>86.000000</td>\n",
       "      <td>1.000000</td>\n",
       "      <td>49.970000</td>\n",
       "    </tr>\n",
       "    <tr>\n",
       "      <th>50%</th>\n",
       "      <td>20241.500000</td>\n",
       "      <td>168.000000</td>\n",
       "      <td>1.000000</td>\n",
       "      <td>270.265000</td>\n",
       "    </tr>\n",
       "    <tr>\n",
       "      <th>75%</th>\n",
       "      <td>24862.250000</td>\n",
       "      <td>263.000000</td>\n",
       "      <td>2.000000</td>\n",
       "      <td>2511.275000</td>\n",
       "    </tr>\n",
       "    <tr>\n",
       "      <th>max</th>\n",
       "      <td>29483.000000</td>\n",
       "      <td>1126.000000</td>\n",
       "      <td>28.000000</td>\n",
       "      <td>13295.380000</td>\n",
       "    </tr>\n",
       "  </tbody>\n",
       "</table>\n",
       "</div>"
      ],
      "text/plain": [
       "        CustomerKey       Recency     Frequency      Monetary\n",
       "count  18484.000000  18484.000000  18484.000000  18484.000000\n",
       "mean   20241.500000    189.332450      1.496375   1588.329216\n",
       "std     5336.015523    146.288729      1.101139   2124.231717\n",
       "min    11000.000000      0.000000      1.000000      2.290000\n",
       "25%    15620.750000     86.000000      1.000000     49.970000\n",
       "50%    20241.500000    168.000000      1.000000    270.265000\n",
       "75%    24862.250000    263.000000      2.000000   2511.275000\n",
       "max    29483.000000   1126.000000     28.000000  13295.380000"
      ]
     },
     "execution_count": 11,
     "metadata": {},
     "output_type": "execute_result"
    }
   ],
   "source": [
    "# Check high level stats of columns\n",
    "rfm_df.describe()"
   ]
  },
  {
   "cell_type": "code",
   "execution_count": 12,
   "id": "118e1fa0",
   "metadata": {},
   "outputs": [
    {
     "data": {
      "text/plain": [
       "18484"
      ]
     },
     "execution_count": 12,
     "metadata": {},
     "output_type": "execute_result"
    }
   ],
   "source": [
    "# Ensure each customer is assigned to an individual row\n",
    "rfm_df['CustomerKey'].nunique()"
   ]
  },
  {
   "cell_type": "code",
   "execution_count": 13,
   "id": "809afa38",
   "metadata": {},
   "outputs": [
    {
     "data": {
      "image/png": "[encoded data removed]",
      "text/plain": [
       "<Figure size 1152x648 with 4 Axes>"
      ]
     },
     "metadata": {},
     "output_type": "display_data"
    }
   ],
   "source": [
    "# Check feature distributions\n",
    "rfm_df.drop(['CustomerKey'], axis = 1).hist();"
   ]
  },
  {
   "cell_type": "markdown",
   "id": "51c455c3",
   "metadata": {},
   "source": [
    "## Assign Recency, Frequency, and Monetary Scores"
   ]
  },
  {
   "cell_type": "markdown",
   "id": "a71fec00",
   "metadata": {},
   "source": [
    "### Recency - R score"
   ]
  },
  {
   "cell_type": "code",
   "execution_count": 15,
   "id": "7945a43a",
   "metadata": {},
   "outputs": [],
   "source": [
    "# Assign scores by putting values into 5 equal-sized buckets based on the sample quantiles. \n",
    "#The list should be in reverse order because more recent purchases (i.e. lower values) score higher\n",
    "rfm_df['R_score'] = pd.qcut(rfm_df['Recency'], 5, labels = [5, 4, 3, 2, 1]) "
   ]
  },
  {
   "cell_type": "markdown",
   "id": "db64c831",
   "metadata": {},
   "source": [
    "### Monetary - M score"
   ]
  },
  {
   "cell_type": "code",
   "execution_count": 16,
   "id": "95caf081",
   "metadata": {},
   "outputs": [],
   "source": [
    "# Assign scores by putting values into 5 equal-sized buckets based on the sample quantiles. \n",
    "# Higher spend/monetary values score higher\n",
    "rfm_df['M_score'] = pd.qcut(rfm_df['Monetary'], 5, labels = [1, 2, 3, 4, 5])"
   ]
  },
  {
   "cell_type": "markdown",
   "id": "daf5a0a9",
   "metadata": {},
   "source": [
    "### Frequency - F score"
   ]
  },
  {
   "cell_type": "code",
   "execution_count": 17,
   "id": "768fbc5f",
   "metadata": {},
   "outputs": [
    {
     "data": {
      "text/plain": [
       "12"
      ]
     },
     "execution_count": 17,
     "metadata": {},
     "output_type": "execute_result"
    }
   ],
   "source": [
    "rfm_df['Frequency'].nunique()"
   ]
  },
  {
   "cell_type": "code",
   "execution_count": 18,
   "id": "2a660ba4",
   "metadata": {},
   "outputs": [
    {
     "data": {
      "text/plain": [
       "array([ 1,  3,  2,  4, 16,  5, 27, 17,  7,  6, 28, 25], dtype=int64)"
      ]
     },
     "execution_count": 18,
     "metadata": {},
     "output_type": "execute_result"
    }
   ],
   "source": [
    "rfm_df['Frequency'].unique()"
   ]
  },
  {
   "cell_type": "code",
   "execution_count": 19,
   "id": "b662519e",
   "metadata": {},
   "outputs": [],
   "source": [
    "# Because the values of the Frequency column are so few, the bins need to be created manually\n",
    "rfm_df['F_score'] = pd.cut(rfm_df['Frequency'], \n",
    "                        bins = [1, 5, 10, 15, 20, 30],\n",
    "                        labels = [1, 2, 3, 4, 5],\n",
    "                        right = False)"
   ]
  },
  {
   "cell_type": "code",
   "execution_count": 20,
   "id": "01a48b04",
   "metadata": {},
   "outputs": [
    {
     "data": {
      "text/html": [
       "<div>\n",
       "<style scoped>\n",
       "    .dataframe tbody tr th:only-of-type {\n",
       "        vertical-align: middle;\n",
       "    }\n",
       "\n",
       "    .dataframe tbody tr th {\n",
       "        vertical-align: top;\n",
       "    }\n",
       "\n",
       "    .dataframe thead th {\n",
       "        text-align: right;\n",
       "    }\n",
       "</style>\n",
       "<table border=\"1\" class=\"dataframe\">\n",
       "  <thead>\n",
       "    <tr style=\"text-align: right;\">\n",
       "      <th></th>\n",
       "      <th>CustomerKey</th>\n",
       "      <th>Recency</th>\n",
       "      <th>Frequency</th>\n",
       "      <th>Monetary</th>\n",
       "      <th>R_score</th>\n",
       "      <th>M_score</th>\n",
       "      <th>F_score</th>\n",
       "    </tr>\n",
       "  </thead>\n",
       "  <tbody>\n",
       "    <tr>\n",
       "      <th>0</th>\n",
       "      <td>28387</td>\n",
       "      <td>71</td>\n",
       "      <td>1</td>\n",
       "      <td>583.9700</td>\n",
       "      <td>5</td>\n",
       "      <td>3</td>\n",
       "      <td>1</td>\n",
       "    </tr>\n",
       "    <tr>\n",
       "      <th>1</th>\n",
       "      <td>14324</td>\n",
       "      <td>134</td>\n",
       "      <td>3</td>\n",
       "      <td>5121.4282</td>\n",
       "      <td>3</td>\n",
       "      <td>5</td>\n",
       "      <td>1</td>\n",
       "    </tr>\n",
       "    <tr>\n",
       "      <th>2</th>\n",
       "      <td>19897</td>\n",
       "      <td>70</td>\n",
       "      <td>1</td>\n",
       "      <td>596.9600</td>\n",
       "      <td>5</td>\n",
       "      <td>3</td>\n",
       "      <td>1</td>\n",
       "    </tr>\n",
       "    <tr>\n",
       "      <th>3</th>\n",
       "      <td>22814</td>\n",
       "      <td>310</td>\n",
       "      <td>1</td>\n",
       "      <td>4.9900</td>\n",
       "      <td>1</td>\n",
       "      <td>1</td>\n",
       "      <td>1</td>\n",
       "    </tr>\n",
       "    <tr>\n",
       "      <th>4</th>\n",
       "      <td>11407</td>\n",
       "      <td>219</td>\n",
       "      <td>1</td>\n",
       "      <td>53.9900</td>\n",
       "      <td>2</td>\n",
       "      <td>2</td>\n",
       "      <td>1</td>\n",
       "    </tr>\n",
       "  </tbody>\n",
       "</table>\n",
       "</div>"
      ],
      "text/plain": [
       "   CustomerKey  Recency  Frequency   Monetary R_score M_score F_score\n",
       "0        28387       71          1   583.9700       5       3       1\n",
       "1        14324      134          3  5121.4282       3       5       1\n",
       "2        19897       70          1   596.9600       5       3       1\n",
       "3        22814      310          1     4.9900       1       1       1\n",
       "4        11407      219          1    53.9900       2       2       1"
      ]
     },
     "execution_count": 20,
     "metadata": {},
     "output_type": "execute_result"
    }
   ],
   "source": [
    "rfm_df.head()"
   ]
  },
  {
   "cell_type": "code",
   "execution_count": 21,
   "id": "6ae8acbb",
   "metadata": {},
   "outputs": [
    {
     "data": {
      "text/html": [
       "<div>\n",
       "<style scoped>\n",
       "    .dataframe tbody tr th:only-of-type {\n",
       "        vertical-align: middle;\n",
       "    }\n",
       "\n",
       "    .dataframe tbody tr th {\n",
       "        vertical-align: top;\n",
       "    }\n",
       "\n",
       "    .dataframe thead th {\n",
       "        text-align: right;\n",
       "    }\n",
       "</style>\n",
       "<table border=\"1\" class=\"dataframe\">\n",
       "  <thead>\n",
       "    <tr style=\"text-align: right;\">\n",
       "      <th></th>\n",
       "      <th>CustomerKey</th>\n",
       "      <th>Recency</th>\n",
       "      <th>Frequency</th>\n",
       "      <th>Monetary</th>\n",
       "      <th>R_score</th>\n",
       "      <th>M_score</th>\n",
       "      <th>F_score</th>\n",
       "    </tr>\n",
       "  </thead>\n",
       "  <tbody>\n",
       "    <tr>\n",
       "      <th>18479</th>\n",
       "      <td>18394</td>\n",
       "      <td>43</td>\n",
       "      <td>1</td>\n",
       "      <td>2297.28</td>\n",
       "      <td>5</td>\n",
       "      <td>4</td>\n",
       "      <td>1</td>\n",
       "    </tr>\n",
       "    <tr>\n",
       "      <th>18480</th>\n",
       "      <td>25968</td>\n",
       "      <td>71</td>\n",
       "      <td>1</td>\n",
       "      <td>24.99</td>\n",
       "      <td>5</td>\n",
       "      <td>1</td>\n",
       "      <td>1</td>\n",
       "    </tr>\n",
       "    <tr>\n",
       "      <th>18481</th>\n",
       "      <td>12984</td>\n",
       "      <td>91</td>\n",
       "      <td>4</td>\n",
       "      <td>200.20</td>\n",
       "      <td>4</td>\n",
       "      <td>3</td>\n",
       "      <td>1</td>\n",
       "    </tr>\n",
       "    <tr>\n",
       "      <th>18482</th>\n",
       "      <td>17312</td>\n",
       "      <td>77</td>\n",
       "      <td>2</td>\n",
       "      <td>4471.74</td>\n",
       "      <td>4</td>\n",
       "      <td>5</td>\n",
       "      <td>1</td>\n",
       "    </tr>\n",
       "    <tr>\n",
       "      <th>18483</th>\n",
       "      <td>15148</td>\n",
       "      <td>235</td>\n",
       "      <td>2</td>\n",
       "      <td>90.75</td>\n",
       "      <td>2</td>\n",
       "      <td>2</td>\n",
       "      <td>1</td>\n",
       "    </tr>\n",
       "  </tbody>\n",
       "</table>\n",
       "</div>"
      ],
      "text/plain": [
       "       CustomerKey  Recency  Frequency  Monetary R_score M_score F_score\n",
       "18479        18394       43          1   2297.28       5       4       1\n",
       "18480        25968       71          1     24.99       5       1       1\n",
       "18481        12984       91          4    200.20       4       3       1\n",
       "18482        17312       77          2   4471.74       4       5       1\n",
       "18483        15148      235          2     90.75       2       2       1"
      ]
     },
     "execution_count": 21,
     "metadata": {},
     "output_type": "execute_result"
    }
   ],
   "source": [
    "rfm_df.tail()"
   ]
  },
  {
   "cell_type": "markdown",
   "id": "871650d8",
   "metadata": {},
   "source": [
    "### Overall RFM Score"
   ]
  },
  {
   "cell_type": "code",
   "execution_count": 22,
   "id": "23790d84",
   "metadata": {},
   "outputs": [
    {
     "data": {
      "text/html": [
       "<div>\n",
       "<style scoped>\n",
       "    .dataframe tbody tr th:only-of-type {\n",
       "        vertical-align: middle;\n",
       "    }\n",
       "\n",
       "    .dataframe tbody tr th {\n",
       "        vertical-align: top;\n",
       "    }\n",
       "\n",
       "    .dataframe thead th {\n",
       "        text-align: right;\n",
       "    }\n",
       "</style>\n",
       "<table border=\"1\" class=\"dataframe\">\n",
       "  <thead>\n",
       "    <tr style=\"text-align: right;\">\n",
       "      <th></th>\n",
       "      <th>CustomerKey</th>\n",
       "      <th>Recency</th>\n",
       "      <th>Frequency</th>\n",
       "      <th>Monetary</th>\n",
       "      <th>R_score</th>\n",
       "      <th>M_score</th>\n",
       "      <th>F_score</th>\n",
       "      <th>RFM_score</th>\n",
       "    </tr>\n",
       "  </thead>\n",
       "  <tbody>\n",
       "    <tr>\n",
       "      <th>0</th>\n",
       "      <td>28387</td>\n",
       "      <td>71</td>\n",
       "      <td>1</td>\n",
       "      <td>583.9700</td>\n",
       "      <td>5</td>\n",
       "      <td>3</td>\n",
       "      <td>1</td>\n",
       "      <td>3.00</td>\n",
       "    </tr>\n",
       "    <tr>\n",
       "      <th>1</th>\n",
       "      <td>14324</td>\n",
       "      <td>134</td>\n",
       "      <td>3</td>\n",
       "      <td>5121.4282</td>\n",
       "      <td>3</td>\n",
       "      <td>5</td>\n",
       "      <td>1</td>\n",
       "      <td>3.00</td>\n",
       "    </tr>\n",
       "    <tr>\n",
       "      <th>2</th>\n",
       "      <td>19897</td>\n",
       "      <td>70</td>\n",
       "      <td>1</td>\n",
       "      <td>596.9600</td>\n",
       "      <td>5</td>\n",
       "      <td>3</td>\n",
       "      <td>1</td>\n",
       "      <td>3.00</td>\n",
       "    </tr>\n",
       "    <tr>\n",
       "      <th>3</th>\n",
       "      <td>22814</td>\n",
       "      <td>310</td>\n",
       "      <td>1</td>\n",
       "      <td>4.9900</td>\n",
       "      <td>1</td>\n",
       "      <td>1</td>\n",
       "      <td>1</td>\n",
       "      <td>1.00</td>\n",
       "    </tr>\n",
       "    <tr>\n",
       "      <th>4</th>\n",
       "      <td>11407</td>\n",
       "      <td>219</td>\n",
       "      <td>1</td>\n",
       "      <td>53.9900</td>\n",
       "      <td>2</td>\n",
       "      <td>2</td>\n",
       "      <td>1</td>\n",
       "      <td>1.67</td>\n",
       "    </tr>\n",
       "  </tbody>\n",
       "</table>\n",
       "</div>"
      ],
      "text/plain": [
       "   CustomerKey  Recency  Frequency   Monetary R_score M_score F_score  \\\n",
       "0        28387       71          1   583.9700       5       3       1   \n",
       "1        14324      134          3  5121.4282       3       5       1   \n",
       "2        19897       70          1   596.9600       5       3       1   \n",
       "3        22814      310          1     4.9900       1       1       1   \n",
       "4        11407      219          1    53.9900       2       2       1   \n",
       "\n",
       "   RFM_score  \n",
       "0       3.00  \n",
       "1       3.00  \n",
       "2       3.00  \n",
       "3       1.00  \n",
       "4       1.67  "
      ]
     },
     "execution_count": 22,
     "metadata": {},
     "output_type": "execute_result"
    }
   ],
   "source": [
    "# Calculate RFM scores (i.e. an average of the three individual scores)\n",
    "rfm_df['RFM_score'] = (rfm_df['R_score'].astype(int) + rfm_df['F_score'].astype(int) + rfm_df['M_score'].astype(int)) / 3\n",
    "rfm_df['RFM_score'] = rfm_df['RFM_score'].round(2)\n",
    "\n",
    "rfm_df.head()"
   ]
  },
  {
   "cell_type": "code",
   "execution_count": 23,
   "id": "f04b599e",
   "metadata": {},
   "outputs": [],
   "source": [
    "# Assign values to customers based on RFM scores where rfm score > 4 : High Value Customer, \n",
    "# 4>rfm score >3 : Medium value customer, 3>rfm score>1.6 : Low-value customer\n",
    "# rfm score<1.6 :Lost Customer\n",
    "# Create list of conditions\n",
    "conditions = [\n",
    "    (rfm_df['RFM_score'] < 1.5),\n",
    "    (rfm_df['RFM_score'] >= 1.5) & (rfm_df['RFM_score'] < 2.5),\n",
    "    (rfm_df['RFM_score'] >= 2.5) & (rfm_df['RFM_score'] < 4),\n",
    "    (rfm_df['RFM_score'] >= 4) \n",
    "]\n",
    "\n",
    "# Create list of values to be assigned to each condition\n",
    "labels = ['Lost Customer', 'Low-value Customer', 'Medium-value Customer', 'High-value Customer']"
   ]
  },
  {
   "cell_type": "code",
   "execution_count": 24,
   "id": "0037eb04",
   "metadata": {},
   "outputs": [],
   "source": [
    "# Create new column which assigns the labels to the RFM scores\n",
    "rfm_df['CustomerLevels'] = np.select(conditions, labels)"
   ]
  },
  {
   "cell_type": "code",
   "execution_count": 25,
   "id": "08f8d6c7",
   "metadata": {},
   "outputs": [
    {
     "data": {
      "text/html": [
       "<div>\n",
       "<style scoped>\n",
       "    .dataframe tbody tr th:only-of-type {\n",
       "        vertical-align: middle;\n",
       "    }\n",
       "\n",
       "    .dataframe tbody tr th {\n",
       "        vertical-align: top;\n",
       "    }\n",
       "\n",
       "    .dataframe thead th {\n",
       "        text-align: right;\n",
       "    }\n",
       "</style>\n",
       "<table border=\"1\" class=\"dataframe\">\n",
       "  <thead>\n",
       "    <tr style=\"text-align: right;\">\n",
       "      <th></th>\n",
       "      <th>CustomerKey</th>\n",
       "      <th>Recency</th>\n",
       "      <th>Frequency</th>\n",
       "      <th>Monetary</th>\n",
       "      <th>R_score</th>\n",
       "      <th>M_score</th>\n",
       "      <th>F_score</th>\n",
       "      <th>RFM_score</th>\n",
       "      <th>CustomerLevels</th>\n",
       "    </tr>\n",
       "  </thead>\n",
       "  <tbody>\n",
       "    <tr>\n",
       "      <th>0</th>\n",
       "      <td>28387</td>\n",
       "      <td>71</td>\n",
       "      <td>1</td>\n",
       "      <td>583.9700</td>\n",
       "      <td>5</td>\n",
       "      <td>3</td>\n",
       "      <td>1</td>\n",
       "      <td>3.00</td>\n",
       "      <td>Medium-value Customer</td>\n",
       "    </tr>\n",
       "    <tr>\n",
       "      <th>1</th>\n",
       "      <td>14324</td>\n",
       "      <td>134</td>\n",
       "      <td>3</td>\n",
       "      <td>5121.4282</td>\n",
       "      <td>3</td>\n",
       "      <td>5</td>\n",
       "      <td>1</td>\n",
       "      <td>3.00</td>\n",
       "      <td>Medium-value Customer</td>\n",
       "    </tr>\n",
       "    <tr>\n",
       "      <th>2</th>\n",
       "      <td>19897</td>\n",
       "      <td>70</td>\n",
       "      <td>1</td>\n",
       "      <td>596.9600</td>\n",
       "      <td>5</td>\n",
       "      <td>3</td>\n",
       "      <td>1</td>\n",
       "      <td>3.00</td>\n",
       "      <td>Medium-value Customer</td>\n",
       "    </tr>\n",
       "    <tr>\n",
       "      <th>3</th>\n",
       "      <td>22814</td>\n",
       "      <td>310</td>\n",
       "      <td>1</td>\n",
       "      <td>4.9900</td>\n",
       "      <td>1</td>\n",
       "      <td>1</td>\n",
       "      <td>1</td>\n",
       "      <td>1.00</td>\n",
       "      <td>Lost Customer</td>\n",
       "    </tr>\n",
       "    <tr>\n",
       "      <th>4</th>\n",
       "      <td>11407</td>\n",
       "      <td>219</td>\n",
       "      <td>1</td>\n",
       "      <td>53.9900</td>\n",
       "      <td>2</td>\n",
       "      <td>2</td>\n",
       "      <td>1</td>\n",
       "      <td>1.67</td>\n",
       "      <td>Low-value Customer</td>\n",
       "    </tr>\n",
       "  </tbody>\n",
       "</table>\n",
       "</div>"
      ],
      "text/plain": [
       "   CustomerKey  Recency  Frequency   Monetary R_score M_score F_score  \\\n",
       "0        28387       71          1   583.9700       5       3       1   \n",
       "1        14324      134          3  5121.4282       3       5       1   \n",
       "2        19897       70          1   596.9600       5       3       1   \n",
       "3        22814      310          1     4.9900       1       1       1   \n",
       "4        11407      219          1    53.9900       2       2       1   \n",
       "\n",
       "   RFM_score         CustomerLevels  \n",
       "0       3.00  Medium-value Customer  \n",
       "1       3.00  Medium-value Customer  \n",
       "2       3.00  Medium-value Customer  \n",
       "3       1.00          Lost Customer  \n",
       "4       1.67     Low-value Customer  "
      ]
     },
     "execution_count": 25,
     "metadata": {},
     "output_type": "execute_result"
    }
   ],
   "source": [
    "rfm_df.head()"
   ]
  },
  {
   "cell_type": "code",
   "execution_count": 26,
   "id": "ddca1daa",
   "metadata": {},
   "outputs": [
    {
     "data": {
      "image/png": "[encoded data removed]",
      "text/plain": [
       "<Figure size 1152x648 with 1 Axes>"
      ]
     },
     "metadata": {},
     "output_type": "display_data"
    }
   ],
   "source": [
    "# Visualise customer levels\n",
    "plt.bar(rfm_df['CustomerLevels'].value_counts().index, rfm_df['CustomerLevels'].value_counts(), color ='blue')\n",
    "plt.xlabel('Customer Levels')\n",
    "plt.ylabel('Number of Customers')\n",
    "\n",
    "plt.show();"
   ]
  }
 ],
 "metadata": {
  "kernelspec": {
   "display_name": "Python 3 (ipykernel)",
   "language": "python",
   "name": "python3"
  },
  "language_info": {
   "codemirror_mode": {
    "name": "ipython",
    "version": 3
   },
   "file_extension": ".py",
   "mimetype": "text/x-python",
   "name": "python",
   "nbconvert_exporter": "python",
   "pygments_lexer": "ipython3",
   "version": "3.9.7"
  }
 },
 "nbformat": 4,
 "nbformat_minor": 5
}
